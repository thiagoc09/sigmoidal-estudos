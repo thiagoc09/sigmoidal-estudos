{
  "nbformat": 4,
  "nbformat_minor": 0,
  "metadata": {
    "colab": {
      "name": "Automacao_relatorio.ipynb",
      "provenance": [],
      "authorship_tag": "ABX9TyNIsFxw2ou9BSfLWAcx6oA2"
    },
    "kernelspec": {
      "name": "python3",
      "display_name": "Python 3"
    },
    "language_info": {
      "name": "python"
    }
  },
  "cells": [
    {
      "cell_type": "code",
      "execution_count": 2,
      "metadata": {
        "colab": {
          "base_uri": "https://localhost:8080/"
        },
        "id": "wTj2Ypm-AMCf",
        "outputId": "1def86ff-9ab1-44bd-bfd7-48ea6db92e6d"
      },
      "outputs": [
        {
          "output_type": "stream",
          "name": "stdout",
          "text": [
            "\u001b[K     |████████████████████████████████| 5.6 MB 8.5 MB/s \n",
            "\u001b[K     |████████████████████████████████| 3.1 MB 42.2 MB/s \n",
            "\u001b[K     |████████████████████████████████| 139 kB 54.2 MB/s \n",
            "\u001b[K     |████████████████████████████████| 4.0 MB 43.1 MB/s \n",
            "\u001b[31mERROR: pip's dependency resolver does not currently take into account all the packages that are installed. This behaviour is the source of the following dependency conflicts.\n",
            "albumentations 0.1.12 requires imgaug<0.2.7,>=0.2.5, but you have imgaug 0.2.9 which is incompatible.\u001b[0m\n",
            "\u001b[?25h"
          ]
        }
      ],
      "source": [
        "!pip install pdfplumber -q"
      ]
    },
    {
      "cell_type": "code",
      "source": [
        "from google.colab import drive\n",
        "import pdfplumber\n",
        "import os\n",
        "\n",
        "\n",
        "# montando o drive\n",
        "drive.mount('/content/gdrive')"
      ],
      "metadata": {
        "colab": {
          "base_uri": "https://localhost:8080/"
        },
        "id": "FwHlNmxzAT8x",
        "outputId": "9c293c2a-38f8-48c4-dabb-5d40e3050ce0"
      },
      "execution_count": 3,
      "outputs": [
        {
          "output_type": "stream",
          "name": "stdout",
          "text": [
            "Mounted at /content/gdrive\n"
          ]
        }
      ]
    },
    {
      "cell_type": "code",
      "source": [
        "os.getcwd()\n",
        "os.chdir('/content/gdrive/MyDrive/relatorio')\n",
        "arquivos = os.listdir()\n"
      ],
      "metadata": {
        "id": "Qw6bQ63LDaPJ"
      },
      "execution_count": 4,
      "outputs": []
    },
    {
      "cell_type": "code",
      "source": [
        "relatorio = pdfplumber.open(\"/content/gdrive/MyDrive/relatorio/20200801.pdf\")\n",
        "pagina = relatorio.pages[0]\n",
        "texto = pagina.extract_text()\n",
        "print(texto)"
      ],
      "metadata": {
        "colab": {
          "base_uri": "https://localhost:8080/"
        },
        "id": "AT7V4HNSGX8r",
        "outputId": "6a091caf-430f-4d93-cbdd-e1f409b6bdbd"
      },
      "execution_count": 5,
      "outputs": [
        {
          "output_type": "stream",
          "name": "stdout",
          "text": [
            "SIGMOIDAL\t\n",
            "\t \t\n",
            "Relatório\tDiário\t\n",
            "Data:\t01/08/2020\t\n",
            "\t\n",
            "\t\n",
            "RECEITA:\tR$\t1297.00\t\n",
            "DADOS\tATUALIZADOS\tPOR\tCARLOS\tMELO\t\n",
            "\t\n",
            "\t\n",
            "Visitantes:\t1367\t\n",
            "A\tquantidade\tde\tvisitantes\tdiz\trespeito\ta\tvisitantes\túnicos\tvisitando\tqualquer\t\n",
            "página\tdo\tdomínio\tou\tsubdomínio\tsigmoidal.ai.\tCompreende,\tentão,\tcursos,\t\n",
            "blogs\te\tlanding\tpages.\t\n",
            "\t\n",
            "Inscritos:\t33\t\n",
            "É\tconsiderado\taqui\to\tnúmero\tde\tleads\tgerados\tpor\tmeio\tde\tcadastro\t\n",
            "voluntário\tnos\tformulários\tdo\tcabeçalho,\trodapé\tou\tmateriais\tricos\t(como\t\n",
            "eBook,\tinfográficos,\tentre\toutros).\t\n",
            "\t\n",
            "Assinantes:\t6\t\n",
            "Clientes\tassinantes\tda\tEscola\tde\tData\tScience,\tconsiderando-se\to\tplano\t\n",
            "renovável\tde\tassinatura\tmensal.\t\n",
            "\t\n"
          ]
        }
      ]
    },
    {
      "cell_type": "code",
      "source": [
        "receita = float(texto.split(\"\\n\")[6].split(\"R$\")[1])\n"
      ],
      "metadata": {
        "colab": {
          "base_uri": "https://localhost:8080/"
        },
        "id": "PhKcjjLZKJO_",
        "outputId": "1fb60930-aed1-4525-a127-6aebd42c6e12"
      },
      "execution_count": 16,
      "outputs": [
        {
          "output_type": "stream",
          "name": "stdout",
          "text": [
            "1197.0\n"
          ]
        }
      ]
    },
    {
      "cell_type": "markdown",
      "source": [
        "### A atv proposta é encontrar e extrair a receita dos pdf's da pasta e soma-la"
      ],
      "metadata": {
        "id": "5eyjstm-sNLv"
      }
    },
    {
      "cell_type": "code",
      "source": [
        "contador = 0\n",
        "for arquivo in arquivos:\n",
        "  relatorio = pdfplumber.open(\"/content/gdrive/MyDrive/relatorio/20200801.pdf\")\n",
        "  pagina = relatorio.pages[0]\n",
        "  texto = pagina.extract_text()\n",
        "  receita = float(texto.split(\"\\n\")[6].split(\"R$\")[1])\n",
        "  contador = contador + receita\n",
        "\n",
        "print(\"Receita total dos relatórios -> \", contador)"
      ],
      "metadata": {
        "colab": {
          "base_uri": "https://localhost:8080/"
        },
        "id": "JMz0oU_6qft4",
        "outputId": "6fb7a7bf-ae88-4980-9292-cb1926cee8aa"
      },
      "execution_count": 6,
      "outputs": [
        {
          "output_type": "stream",
          "name": "stdout",
          "text": [
            "Receita total dos relatórios ->  6485.0\n"
          ]
        }
      ]
    }
  ]
}