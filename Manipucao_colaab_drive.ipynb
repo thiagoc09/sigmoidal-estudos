{
  "nbformat": 4,
  "nbformat_minor": 0,
  "metadata": {
    "colab": {
      "name": "Manipucao_colaab_drive.ipynb",
      "provenance": [],
      "authorship_tag": "ABX9TyNHMw0NEas6TuUqR0+Tfql8",
      "include_colab_link": true
    },
    "kernelspec": {
      "name": "python3",
      "display_name": "Python 3"
    },
    "language_info": {
      "name": "python"
    }
  },
  "cells": [
    {
      "cell_type": "markdown",
      "metadata": {
        "id": "view-in-github",
        "colab_type": "text"
      },
      "source": [
        "<a href=\"https://colab.research.google.com/github/thiagoc09/sigmoidal-estudos/blob/main/Manipucao_colaab_drive.ipynb\" target=\"_parent\"><img src=\"https://colab.research.google.com/assets/colab-badge.svg\" alt=\"Open In Colab\"/></a>"
      ]
    },
    {
      "cell_type": "code",
      "execution_count": 6,
      "metadata": {
        "id": "B45ZB7p_1kJz",
        "colab": {
          "base_uri": "https://localhost:8080/"
        },
        "outputId": "45239e23-83e8-43e2-e413-180444c13147"
      },
      "outputs": [
        {
          "output_type": "stream",
          "name": "stdout",
          "text": [
            "Drive already mounted at /content/gdrive; to attempt to forcibly remount, call drive.mount(\"/content/gdrive\", force_remount=True).\n"
          ]
        }
      ],
      "source": [
        "# importando os pacotes necessários\n",
        "from google.colab import drive\n",
        "\n",
        "# montando o drive\n",
        "drive.mount('/content/gdrive')"
      ]
    },
    {
      "cell_type": "code",
      "source": [
        "# lendo o arquivo a.txt\n",
        "with open('/content/gdrive/MyDrive/a.txt', 'r') as clientes:\n",
        "  print(clientes.read())"
      ],
      "metadata": {
        "colab": {
          "base_uri": "https://localhost:8080/"
        },
        "id": "tKOSRcgz9X4t",
        "outputId": "ea508369-ed0c-41d1-d99e-7af5aab2c437"
      },
      "execution_count": 17,
      "outputs": [
        {
          "output_type": "stream",
          "name": "stdout",
          "text": [
            "Thiago\n",
            "Laura\n",
            "Anabel\n",
            "Henrique\n"
          ]
        }
      ]
    },
    {
      "cell_type": "code",
      "source": [
        ""
      ],
      "metadata": {
        "id": "c6Nk7VwSF5MV"
      },
      "execution_count": null,
      "outputs": []
    },
    {
      "cell_type": "code",
      "source": [
        "#@title Formulário Python na Prática\n",
        "#@markdown Formulários suportam muitos tipos de dados.\n",
        "\n",
        "Sem tipo específico = ''  #@param\n",
        "Nome (String) = 'example'  #@param {type: \"string\"}\n",
        "Idade (Slider de Valores) = 31  #@param {type: \"slider\", min: 18, max: 100}\n",
        "Número (Integer) = 102  #@param {type: \"number\"}\n",
        "Data = '2010-11-02'  #@param {type: \"date\"}\n",
        "Drop Down = \"wednesday\"  #@param ['monday', 'tuesday', 'wednesday', 'thursday']\n",
        "Selecione ou Acrescente = \"apples\" #@param [\"apples\", \"bananas\", \"oranges\"] {allow-input: true}\n",
        "#@markdown ---\n"
      ],
      "metadata": {
        "id": "y1bxgGBhMSjZ"
      },
      "execution_count": null,
      "outputs": []
    },
    {
      "cell_type": "code",
      "source": [
        "import os\n",
        "os.getcwd()\n",
        "os.mkdir('teste4.txt')\n",
        "os.chdir('teste4.txt')\n",
        "with open('teste4.txt','w') as txt:\n",
        "  txt.write('Thiago Caetano')\n",
        "with open('teste4.txt','a') as txt:\n",
        "  txt.write('\\n22 anos')\n",
        "\n"
      ],
      "metadata": {
        "id": "d9oC279NVIiQ"
      },
      "execution_count": 36,
      "outputs": []
    },
    {
      "cell_type": "code",
      "source": [
        "with open('teste4.txt','r') as txt:\n",
        "  print(txt.read())"
      ],
      "metadata": {
        "colab": {
          "base_uri": "https://localhost:8080/"
        },
        "id": "ZSZ_B_YTW0qH",
        "outputId": "93d31558-8f23-4cdc-eef6-ed25c435be71"
      },
      "execution_count": 44,
      "outputs": [
        {
          "output_type": "stream",
          "name": "stdout",
          "text": [
            "Thiago Caetano/n22 anos\n"
          ]
        }
      ]
    }
  ]
}