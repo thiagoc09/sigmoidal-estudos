{
  "nbformat": 4,
  "nbformat_minor": 0,
  "metadata": {
    "colab": {
      "name": "pegar_email.ipynb",
      "provenance": [],
      "authorship_tag": "ABX9TyMdGXY+GW+6Wn9AB5mX6BLQ",
      "include_colab_link": true
    },
    "kernelspec": {
      "name": "python3",
      "display_name": "Python 3"
    },
    "language_info": {
      "name": "python"
    }
  },
  "cells": [
    {
      "cell_type": "markdown",
      "metadata": {
        "id": "view-in-github",
        "colab_type": "text"
      },
      "source": [
        "<a href=\"https://colab.research.google.com/github/thiagoc09/sigmoidal-estudos/blob/main/pegar_email.ipynb\" target=\"_parent\"><img src=\"https://colab.research.google.com/assets/colab-badge.svg\" alt=\"Open In Colab\"/></a>"
      ]
    },
    {
      "cell_type": "code",
      "execution_count": null,
      "metadata": {
        "id": "fpu7DmL86wz9"
      },
      "outputs": [],
      "source": [
        "from imap_tools import MailBox, AND\n",
        "\n",
        "# pegar emails de um remetente para um destinatário\n",
        "username = \"seu_email\"\n",
        "password = \"senha\"\n",
        "\n",
        "# lista de imaps: https://www.systoolsgroup.com/imap/\n",
        "meu_email = MailBox('imap.gmail.com').login(username, password)\n",
        "\n",
        "# criterios: https://github.com/ikvk/imap_tools#search-criteria\n",
        "lista_emails = meu_email.fetch(AND(from_=\"remetente\", to=\"destinatario\")) \n",
        "for email in lista_emails:\n",
        "    print(email.subject)\n",
        "    print(email.text)\n",
        "\n",
        "\n",
        "# pegar emails com um anexo específico\n",
        "lista_emails = meu_email.fetch(AND(from_=\"remetente\"))\n",
        "for email in lista_emails:\n",
        "    if len(email.attachments) > 0:\n",
        "        for anexo in email.attachments:\n",
        "            if \"TituloAnexo\" in anexo.filename:\n",
        "                print(anexo.content_type)\n",
        "                print(anexo.payload)\n",
        "                with open(\"Teste.xlsx\", 'wb') as arquivo_excel:\n",
        "                    arquivo_excel.write(anexo.payload)"
      ]
    }
  ]
}