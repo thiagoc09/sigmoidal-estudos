{
  "nbformat": 4,
  "nbformat_minor": 0,
  "metadata": {
    "colab": {
      "name": "Manipula_String.ipynb",
      "provenance": [],
      "authorship_tag": "ABX9TyPMKl2KtJ1YXelGfQvS0wo9",
      "include_colab_link": true
    },
    "kernelspec": {
      "name": "python3",
      "display_name": "Python 3"
    },
    "language_info": {
      "name": "python"
    }
  },
  "cells": [
    {
      "cell_type": "markdown",
      "metadata": {
        "id": "view-in-github",
        "colab_type": "text"
      },
      "source": [
        "<a href=\"https://colab.research.google.com/github/thiagoc09/sigmoidal-estudos/blob/main/Manipula_String.ipynb\" target=\"_parent\"><img src=\"https://colab.research.google.com/assets/colab-badge.svg\" alt=\"Open In Colab\"/></a>"
      ]
    },
    {
      "cell_type": "code",
      "execution_count": 6,
      "metadata": {
        "colab": {
          "base_uri": "https://localhost:8080/"
        },
        "id": "-pdzUFcLvDQK",
        "outputId": "0c265773-3895-47fe-f1fe-672981a49644"
      },
      "outputs": [
        {
          "output_type": "stream",
          "name": "stdout",
          "text": [
            "Em string fica assim ->  R$ 10321,99 R$ 10321,99 \n",
            "Em float fica assim ->  20643.98\n"
          ]
        }
      ],
      "source": [
        "preco = \"R$ 10321,99 \"\n",
        "preco = preco * 2 \n",
        "print(\"Em string fica assim -> \", preco)\n",
        "preco = float(preco.split(\"R$\")[1].replace(\",\",\".\"))\n",
        "preco = 2*preco\n",
        "print(\"Em float fica assim -> \", preco)"
      ]
    },
    {
      "cell_type": "code",
      "source": [
        "##Função SPLIT -> Separar string utilizando um delimitador\n",
        "nome = \"Thiago Caetano de Araujo\"\n",
        "Caetano = nome.split(\" \")[1]\n",
        "print(Caetano)\n",
        "print('-')\n",
        "lista_nomes = \"Thiago,Laura,Anabel,João,Chico,Henrique\"\n",
        "#PrintaChico\n",
        "print(lista_nomes.split(\",\")[4])"
      ],
      "metadata": {
        "colab": {
          "base_uri": "https://localhost:8080/"
        },
        "id": "uJd19fSuw4x3",
        "outputId": "746e7146-ef4b-4ac1-8026-62ef1d426c68"
      },
      "execution_count": 10,
      "outputs": [
        {
          "output_type": "stream",
          "name": "stdout",
          "text": [
            "Caetano\n",
            "-\n",
            "Chico\n"
          ]
        }
      ]
    },
    {
      "cell_type": "code",
      "source": [
        "##Função REPLACE -> Substituição\n",
        "\n",
        "preco = \"10,90\" #padrão errado \n",
        "preco = float(preco.replace(\",\",\".\"))\n",
        "\n",
        "print(preco)\n",
        "print(preco*10)\n",
        "\n",
        "cpf = \"108.444.213-10\"\n",
        "\n",
        "cpf = cpf.replace(\".\",\"\").replace(\"-\",\"\")\n",
        "print(cpf)\n"
      ],
      "metadata": {
        "colab": {
          "base_uri": "https://localhost:8080/"
        },
        "id": "Qya04ZsN1lPn",
        "outputId": "47267d1f-8a68-4a08-c215-e14d1ae54db2"
      },
      "execution_count": 26,
      "outputs": [
        {
          "output_type": "stream",
          "name": "stdout",
          "text": [
            "10.9\n",
            "109.0\n",
            "10844421310\n"
          ]
        }
      ]
    },
    {
      "cell_type": "code",
      "source": [
        "##Função STRIP -> Remove espaços em branco ou caracteres indesejados\n",
        "\n",
        "nome = \"      Thiago Caetano  \"\n",
        "nome = nome.strip()\n",
        "print(nome)\n",
        "print(\"-\")\n",
        "\n",
        "preco = \"R$ 10,000\"\n",
        "preco = float(preco.strip(\"R$ \").replace(\",\",\".\"))\n",
        "print(preco)\n",
        "type(preco)\n",
        "\n",
        "\n",
        "\n"
      ],
      "metadata": {
        "colab": {
          "base_uri": "https://localhost:8080/"
        },
        "id": "1J9qEN6h3XM7",
        "outputId": "9ed9fc20-b19f-4a6a-8b95-d9995963b9f9"
      },
      "execution_count": 29,
      "outputs": [
        {
          "output_type": "stream",
          "name": "stdout",
          "text": [
            "Thiago Caetano\n",
            "-\n",
            "10.0\n"
          ]
        },
        {
          "output_type": "execute_result",
          "data": {
            "text/plain": [
              "float"
            ]
          },
          "metadata": {},
          "execution_count": 29
        }
      ]
    },
    {
      "cell_type": "code",
      "source": [
        "##Função Slicing\n",
        "\n",
        "nome = \"Thiago\"\n",
        "nome1= nome[0:2]\n",
        "nome2 = nome[2:4]\n",
        "nome3 = nome[4:6]\n",
        "print(nome1+nome2+nome3)\n",
        "\n",
        "\n",
        "\n",
        "cpf = \"119754396-07\"\n",
        "cpf = cpf.replace(\"-\",\"\")\n",
        "first_part = cpf[0:9]\n",
        "second_part = cpf[9::]\n",
        "print(first_part)\n",
        "print(second_part)\n"
      ],
      "metadata": {
        "colab": {
          "base_uri": "https://localhost:8080/"
        },
        "id": "FjXXqDya5KMw",
        "outputId": "b1654bd0-85d2-4a36-f518-00adb55b0ed4"
      },
      "execution_count": 51,
      "outputs": [
        {
          "output_type": "stream",
          "name": "stdout",
          "text": [
            "Thiago\n",
            "119754396\n",
            "07\n"
          ]
        }
      ]
    },
    {
      "cell_type": "markdown",
      "source": [
        "#### Exercicio para pegar apenas a segunda parte dos cpf's"
      ],
      "metadata": {
        "id": "LhcUIDcXDee2"
      }
    },
    {
      "cell_type": "code",
      "source": [
        "\n",
        "lista_cpf = [\"\"]\n",
        "cnt = int(input(\"Quantos usuarios?\"))\n",
        "\n",
        "\n",
        "for registro in range(cnt):\n",
        "  cpf = str(input(\"Digite cpf:\"))\n",
        "  lista_cpf.append(cpf)\n",
        "\n",
        "\n",
        "for cpf in lista_cpf:\n",
        "  cpf = cpf.replace(\"-\",\"\")\n",
        "  first_part = cpf[0:9]\n",
        "  second_part = cpf[9::]\n",
        "  print(second_part)"
      ],
      "metadata": {
        "colab": {
          "base_uri": "https://localhost:8080/"
        },
        "id": "JFUApdA7DdBF",
        "outputId": "2056fde8-bf62-43a8-b709-311cde31a2bf"
      },
      "execution_count": 58,
      "outputs": [
        {
          "output_type": "stream",
          "name": "stdout",
          "text": [
            "Quantos usuarios?2\n",
            "Digite cpf:107989345-01\n",
            "Digite cpf:204953021-95\n",
            "\n",
            "01\n",
            "95\n"
          ]
        }
      ]
    },
    {
      "cell_type": "code",
      "source": [
        "nome = \"thiago caetano de araujo\"\n",
        "nome = nome.title()\n",
        "print(nome)\n",
        "\n"
      ],
      "metadata": {
        "colab": {
          "base_uri": "https://localhost:8080/"
        },
        "id": "mB5d-_vJIUX1",
        "outputId": "1d0aa7ba-bd45-45ff-e34d-87a078f8c25c"
      },
      "execution_count": 63,
      "outputs": [
        {
          "output_type": "stream",
          "name": "stdout",
          "text": [
            "Thiago Caetano De Araujo\n"
          ]
        }
      ]
    }
  ]
}