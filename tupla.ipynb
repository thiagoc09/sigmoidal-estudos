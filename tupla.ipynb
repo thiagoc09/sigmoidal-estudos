{
  "nbformat": 4,
  "nbformat_minor": 0,
  "metadata": {
    "colab": {
      "name": "tupla.ipynb",
      "provenance": [],
      "authorship_tag": "ABX9TyOTquu78/ptQglqKwZvBGMg",
      "include_colab_link": true
    },
    "kernelspec": {
      "name": "python3",
      "display_name": "Python 3"
    },
    "language_info": {
      "name": "python"
    }
  },
  "cells": [
    {
      "cell_type": "markdown",
      "metadata": {
        "id": "view-in-github",
        "colab_type": "text"
      },
      "source": [
        "<a href=\"https://colab.research.google.com/github/thiagoc09/sigmoidal-estudos/blob/main/tupla.ipynb\" target=\"_parent\"><img src=\"https://colab.research.google.com/assets/colab-badge.svg\" alt=\"Open In Colab\"/></a>"
      ]
    },
    {
      "cell_type": "code",
      "execution_count": null,
      "metadata": {
        "colab": {
          "base_uri": "https://localhost:8080/"
        },
        "id": "xl6JaJk0Cw1B",
        "outputId": "5a57f57a-808d-46e8-f0be-082899d800da"
      },
      "outputs": [
        {
          "output_type": "stream",
          "name": "stdout",
          "text": [
            "<class 'dict'>\n"
          ]
        },
        {
          "output_type": "execute_result",
          "data": {
            "text/plain": [
              "tuple"
            ]
          },
          "metadata": {},
          "execution_count": 12
        }
      ],
      "source": [
        "##Treinando tupla\n",
        "\n",
        "coordenadas = {\n",
        "    \"Delfinopolis\":(13.10,39.77),\n",
        "    \"Brasilia\":(13.53,91.34)\n",
        "    \n",
        "}\n",
        "\n",
        "print(type(coordenadas))\n",
        "type(coordenadas[\"Delfinopolis\"])\n",
        "\n",
        "\n"
      ]
    },
    {
      "cell_type": "code",
      "source": [
        "coordenadas\n",
        "##\"Observe que o dicionário não respeita a ordem pois ele não é indexado como listas e tuplas \")"
      ],
      "metadata": {
        "colab": {
          "base_uri": "https://localhost:8080/"
        },
        "id": "BQHUb05fEXpZ",
        "outputId": "3c71595e-4fae-4dbd-c247-fd07165f7e72"
      },
      "execution_count": null,
      "outputs": [
        {
          "output_type": "execute_result",
          "data": {
            "text/plain": [
              "{'Brasilia': (13.53, 91.34), 'Delfinopolis': (13.1, 39.77)}"
            ]
          },
          "metadata": {},
          "execution_count": 15
        }
      ]
    },
    {
      "cell_type": "code",
      "source": [
        "##Associe cada estado a uma variável e crie uma nova tupla, utilizando essas variáveis.\n",
        "\n",
        "sudeste = (\"Minas Gerais\",\"São Paulo\",\"Espirito Santo\",\"Rio de Janeiro\")\n",
        "mg = sudeste[0]\n",
        "sp = sudeste[1]\n",
        "es = sudeste[2]\n",
        "rj = sudeste[3]\n",
        "\n",
        "siglas =[]\n",
        "\n",
        "siglas.append(mg)\n",
        "siglas.append(sp)\n",
        "siglas.append(es)\n",
        "siglas.append(rj)\n",
        "\n",
        "siglas\n",
        "\n",
        "print(type(sudeste))\n",
        "print(type(siglas))"
      ],
      "metadata": {
        "id": "kuIid1JFFNRq",
        "colab": {
          "base_uri": "https://localhost:8080/"
        },
        "outputId": "7c936f44-603a-4cdf-8b61-cf60f28cd665"
      },
      "execution_count": 19,
      "outputs": [
        {
          "output_type": "stream",
          "name": "stdout",
          "text": [
            "<class 'tuple'>\n",
            "<class 'list'>\n"
          ]
        }
      ]
    }
  ]
}